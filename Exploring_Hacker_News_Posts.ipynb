{
 "cells": [
  {
   "cell_type": "markdown",
   "id": "dd60b1e0",
   "metadata": {},
   "source": [
    "# Exploring Hacker News Posts"
   ]
  },
  {
   "cell_type": "markdown",
   "id": "19fcafaf",
   "metadata": {},
   "source": [
    "## In this Project we will work on [dataset](https://www.kaggle.com/datasets/hacker-news/hacker-news-posts) \\ Which is from [Hacker News](https://news.ycombinator.com/) that has details about posts on its forum."
   ]
  },
  {
   "cell_type": "markdown",
   "id": "1cf8cebd",
   "metadata": {},
   "source": [
    "## This Dataset has various attributes(columns):"
   ]
  },
  {
   "cell_type": "markdown",
   "id": "622b82d0",
   "metadata": {},
   "source": [
    "`id`: the unique identifier from Hacker News for the post\n",
    "\n",
    "`title`: the title of the post\n",
    "\n",
    "`url`: the URL that the posts links to, if the post has a URL\n",
    "\n",
    "`num_points`: the number of points the post acquired, calculated as the total number of upvotes minus the total number of downvotes\n",
    "\n",
    "`num_comments`: the number of comments on the post\n",
    "\n",
    "`author`: the username of the person who submitted the post\n",
    "\n",
    "`created_at`: the date and time of the post's submission"
   ]
  },
  {
   "cell_type": "markdown",
   "id": "b752fed6",
   "metadata": {},
   "source": [
    "## The Goal here is to determine 2 types of post:"
   ]
  },
  {
   "cell_type": "markdown",
   "id": "1d1ff579",
   "metadata": {},
   "source": [
    "* Do `Ask Hn` or `Show HN` recieve more comments on average?\n",
    "* Do posts created at a certain time recieve more comments on average?"
   ]
  },
  {
   "cell_type": "code",
   "execution_count": 3,
   "id": "4c2bf1c1",
   "metadata": {},
   "outputs": [],
   "source": [
    "# Importing necessary modules\n",
    "import csv\n",
    "# for calculating comments by hour we need datetime module \n",
    "import datetime as dt"
   ]
  },
  {
   "cell_type": "code",
   "execution_count": 4,
   "id": "d3651234",
   "metadata": {},
   "outputs": [
    {
     "name": "stdout",
     "output_type": "stream",
     "text": [
      "[['id', 'title', 'url', 'num_points', 'num_comments', 'author', 'created_at']]\n",
      "[['12224879', 'Interactive Dynamic Video', 'http://www.interactivedynamicvideo.com/', '386', '52', 'ne0phyte', '8/4/2016 11:52'], ['10975351', 'How to Use Open Source and Shut the Fuck Up at the Same Time', 'http://hueniverse.com/2016/01/26/how-to-use-open-source-and-shut-the-fuck-up-at-the-same-time/', '39', '10', 'josep2', '1/26/2016 19:30'], ['11964716', \"Florida DJs May Face Felony for April Fools' Water Joke\", 'http://www.thewire.com/entertainment/2013/04/florida-djs-april-fools-water-joke/63798/', '2', '1', 'vezycash', '6/23/2016 22:20'], ['11919867', 'Technology ventures: From Idea to Enterprise', 'https://www.amazon.com/Technology-Ventures-Enterprise-Thomas-Byers/dp/0073523429', '3', '1', 'hswarna', '6/17/2016 0:01'], ['10301696', 'Note by Note: The Making of Steinway L1037 (2007)', 'http://www.nytimes.com/2007/11/07/movies/07stein.html?_r=0', '8', '2', 'walterbell', '9/30/2015 4:12']]\n"
     ]
    }
   ],
   "source": [
    "openfile = open(\"hacker_news.csv\")\n",
    "\n",
    "hn = list(csv.reader(openfile))\n",
    "# Seperating header of dataset from `hn` list of list\n",
    "headers = hn[:1]\n",
    "# Assigning rest of dataset back to hn\n",
    "hn = hn[1:]\n",
    "#Dislaying both of them\n",
    "print(headers)\n",
    "print(hn[:5])"
   ]
  },
  {
   "cell_type": "markdown",
   "id": "a718e1a5",
   "metadata": {},
   "source": [
    "## Extracting `Ask Hn` and `Show Hn` Posts"
   ]
  },
  {
   "cell_type": "code",
   "execution_count": 5,
   "id": "52a11cce",
   "metadata": {},
   "outputs": [
    {
     "name": "stdout",
     "output_type": "stream",
     "text": [
      "1744\n",
      "1162\n",
      "17194\n",
      "[['12296411', 'Ask HN: How to improve my personal website?', '', '2', '6', 'ahmedbaracat', '8/16/2016 9:55'], ['10610020', 'Ask HN: Am I the only one outraged by Twitter shutting down share counts?', '', '28', '29', 'tkfx', '11/22/2015 13:43'], ['11610310', 'Ask HN: Aby recent changes to CSS that broke mobile?', '', '1', '1', 'polskibus', '5/2/2016 10:14'], ['12210105', 'Ask HN: Looking for Employee #3 How do I do it?', '', '1', '3', 'sph130', '8/2/2016 14:20'], ['10394168', 'Ask HN: Someone offered to buy my browser extension from me. What now?', '', '28', '17', 'roykolak', '10/15/2015 16:38']]\n",
      "[['10627194', 'Show HN: Wio Link  ESP8266 Based Web of Things Hardware Development Platform', 'https://iot.seeed.cc', '26', '22', 'kfihihc', '11/25/2015 14:03'], ['10646440', 'Show HN: Something pointless I made', 'http://dn.ht/picklecat/', '747', '102', 'dhotson', '11/29/2015 22:46'], ['11590768', 'Show HN: Shanhu.io, a programming playground powered by e8vm', 'https://shanhu.io', '1', '1', 'h8liu', '4/28/2016 18:05'], ['12178806', 'Show HN: Webscope  Easy way for web developers to communicate with Clients', 'http://webscopeapp.com', '3', '3', 'fastbrick', '7/28/2016 7:11'], ['10872799', 'Show HN: GeoScreenshot  Easily test Geo-IP based web pages', 'https://www.geoscreenshot.com/', '1', '9', 'kpsychwave', '1/9/2016 20:45']]\n",
      "[['12224879', 'Interactive Dynamic Video', 'http://www.interactivedynamicvideo.com/', '386', '52', 'ne0phyte', '8/4/2016 11:52'], ['10975351', 'How to Use Open Source and Shut the Fuck Up at the Same Time', 'http://hueniverse.com/2016/01/26/how-to-use-open-source-and-shut-the-fuck-up-at-the-same-time/', '39', '10', 'josep2', '1/26/2016 19:30'], ['11964716', \"Florida DJs May Face Felony for April Fools' Water Joke\", 'http://www.thewire.com/entertainment/2013/04/florida-djs-april-fools-water-joke/63798/', '2', '1', 'vezycash', '6/23/2016 22:20'], ['11919867', 'Technology ventures: From Idea to Enterprise', 'https://www.amazon.com/Technology-Ventures-Enterprise-Thomas-Byers/dp/0073523429', '3', '1', 'hswarna', '6/17/2016 0:01'], ['10301696', 'Note by Note: The Making of Steinway L1037 (2007)', 'http://www.nytimes.com/2007/11/07/movies/07stein.html?_r=0', '8', '2', 'walterbell', '9/30/2015 4:12']]\n",
      "20100\n"
     ]
    }
   ],
   "source": [
    "ask_posts = []\n",
    "show_posts = []\n",
    "other_posts = []\n",
    "\n",
    "for row in hn:\n",
    "    title = row[1]\n",
    "    if title.lower().startswith('ask hn'):\n",
    "        ask_posts.append(row)\n",
    "        \n",
    "    elif title.lower().startswith('show hn'):\n",
    "        show_posts.append(row)\n",
    "    \n",
    "    else:\n",
    "        other_posts.append(row)\n",
    "        \n",
    "print(len(ask_posts))\n",
    "print(len(show_posts))\n",
    "print(len(other_posts))\n",
    "print(ask_posts[:5])\n",
    "print(show_posts[:5])\n",
    "print(other_posts[:5])   \n",
    "print(len(hn))"
   ]
  },
  {
   "cell_type": "markdown",
   "id": "a4641907",
   "metadata": {},
   "source": [
    "## Finding total number comments in both `Ask Hn` and `Show Hn` posts"
   ]
  },
  {
   "cell_type": "markdown",
   "id": "95c18ceb",
   "metadata": {},
   "source": [
    "Total number comments in `Ask Hn`:"
   ]
  },
  {
   "cell_type": "code",
   "execution_count": 6,
   "id": "27b390a6",
   "metadata": {},
   "outputs": [
    {
     "name": "stdout",
     "output_type": "stream",
     "text": [
      "24483\n",
      "14.038\n"
     ]
    }
   ],
   "source": [
    "total_ask_comments = 0\n",
    "count = 0\n",
    "for row in ask_posts:\n",
    "    num_comments = int(row[4])\n",
    "    total_ask_comments += num_comments\n",
    "    count += 1\n",
    "avg_ask_comments = total_ask_comments/count \n",
    "print(total_ask_comments)\n",
    "print(round(avg_ask_comments,3))"
   ]
  },
  {
   "cell_type": "markdown",
   "id": "7aed919f",
   "metadata": {},
   "source": [
    "Total number comments in `Show Hn`:"
   ]
  },
  {
   "cell_type": "code",
   "execution_count": 7,
   "id": "a0f61792",
   "metadata": {},
   "outputs": [
    {
     "name": "stdout",
     "output_type": "stream",
     "text": [
      "11988\n",
      "10.317\n"
     ]
    }
   ],
   "source": [
    "total_show_comments = 0\n",
    "count = 0\n",
    "for row in show_posts:\n",
    "    num_comments = int(row[4])\n",
    "    total_show_comments += num_comments\n",
    "    count += 1\n",
    "avg_show_comments = total_show_comments/count \n",
    "print(total_show_comments)\n",
    "print(round(avg_show_comments,3))"
   ]
  },
  {
   "cell_type": "markdown",
   "id": "707c4c41",
   "metadata": {},
   "source": [
    "* The total number of ask comments `total_ask_comments` : 24483\n",
    "* The Average number of ask comments `avg_ask_comments` : 14.038\n",
    "* The total number of show comments `total_show_comments` : 11988\n",
    "* The Average number of show comments `avg_show_comments` : 10.317"
   ]
  },
  {
   "cell_type": "markdown",
   "id": "42218ff0",
   "metadata": {},
   "source": [
    "#### Hence Average number of `avg_ask_comments` are greater than `avg_show_comments`"
   ]
  },
  {
   "cell_type": "markdown",
   "id": "ab161a6f",
   "metadata": {},
   "source": [
    "## Finding the Number of Ask Posts and Comments by Hour Created"
   ]
  },
  {
   "cell_type": "markdown",
   "id": "ef97e08c",
   "metadata": {},
   "source": [
    "##### Here we will determine if ask posts created at a certain time are more likely to attract comments, for that we will do following steps:"
   ]
  },
  {
   "cell_type": "markdown",
   "id": "b3a26912",
   "metadata": {},
   "source": [
    "1. Calculate the number of ask posts created in each hour of the day, along with the number of comments received.\n",
    "2. Calculate the average number of comments ask posts receive by hour created."
   ]
  },
  {
   "cell_type": "markdown",
   "id": "336eca54",
   "metadata": {},
   "source": [
    "### Step 1:"
   ]
  },
  {
   "cell_type": "markdown",
   "id": "8cd9fb33",
   "metadata": {},
   "source": [
    "* For calculating the number of ask posts and comments by hour we will use `datetime` module\n",
    "* From datetime module we will use `datetime.strptime()` method to parse dates stored as strings and return datetime objects"
   ]
  },
  {
   "cell_type": "code",
   "execution_count": 8,
   "id": "5a338816",
   "metadata": {},
   "outputs": [
    {
     "name": "stdout",
     "output_type": "stream",
     "text": [
      "[['8/16/2016 9:55', 6], ['11/22/2015 13:43', 29], ['5/2/2016 10:14', 1], ['8/2/2016 14:20', 3], ['10/15/2015 16:38', 17]]\n"
     ]
    }
   ],
   "source": [
    "#creating empty list\n",
    "result_list = []\n",
    "\n",
    "for row in ask_posts:\n",
    "    created_at = row[6]\n",
    "    num_comments = int(row[4])\n",
    "    result_list.append([created_at,num_comments])\n",
    "\n",
    "    \n",
    "print(result_list[:5])"
   ]
  },
  {
   "cell_type": "code",
   "execution_count": 9,
   "id": "6df3c28a",
   "metadata": {},
   "outputs": [
    {
     "name": "stdout",
     "output_type": "stream",
     "text": [
      "{'09': 45, '13': 85, '10': 59, '14': 107, '16': 108, '23': 68, '12': 73, '17': 100, '15': 116, '21': 109, '20': 80, '02': 58, '18': 109, '03': 54, '05': 46, '19': 110, '01': 60, '22': 71, '08': 48, '04': 47, '00': 55, '06': 44, '07': 34, '11': 58}\n"
     ]
    },
    {
     "data": {
      "text/plain": [
       "{'09': 257,\n",
       " '13': 1282,\n",
       " '10': 794,\n",
       " '14': 1419,\n",
       " '16': 1831,\n",
       " '23': 544,\n",
       " '12': 691,\n",
       " '17': 1147,\n",
       " '15': 4478,\n",
       " '21': 1749,\n",
       " '20': 1724,\n",
       " '02': 1384,\n",
       " '18': 1441,\n",
       " '03': 422,\n",
       " '05': 493,\n",
       " '19': 1191,\n",
       " '01': 716,\n",
       " '22': 481,\n",
       " '08': 497,\n",
       " '04': 340,\n",
       " '00': 457,\n",
       " '06': 398,\n",
       " '07': 269,\n",
       " '11': 643}"
      ]
     },
     "execution_count": 9,
     "metadata": {},
     "output_type": "execute_result"
    }
   ],
   "source": [
    "#creating 2 dictionaries \n",
    "counts_by_hour = {}\n",
    "comments_by_hour = {}\n",
    "\n",
    "for row in result_list:\n",
    "    date = row[0]\n",
    "    comment = row[1]\n",
    "    date_t = dt.datetime.strptime(date,\"%m/%d/%Y  %H:%M\")\n",
    "    hour = date_t.strftime(\"%H\")\n",
    "    #print(time)\n",
    "    counts_by_hour[hour] = counts_by_hour.get(hour,0)+1\n",
    "    #print(comment)\n",
    "    comments_by_hour[hour] = comments_by_hour.get(hour,comment)+comment\n",
    "#print(comments_by_hour)\n",
    "print(counts_by_hour)\n",
    "\n",
    "comments_by_hour"
   ]
  },
  {
   "cell_type": "markdown",
   "id": "58858be3",
   "metadata": {},
   "source": [
    "## Calculating the Average Number of Comments for `Ask Hn` Posts by Hour"
   ]
  },
  {
   "cell_type": "markdown",
   "id": "458d78bb",
   "metadata": {},
   "source": [
    "* `counts_by_hour` : contains the number of ask posts created during each hour of the day.\n",
    "* `comments_by_hour` : contains the corresponding number of comments ask posts created at each hour received."
   ]
  },
  {
   "cell_type": "markdown",
   "id": "117cf4b8",
   "metadata": {},
   "source": [
    "#### Now we will use these two dictionaries to calculate the average number of comments for posts created during each hour of the day"
   ]
  },
  {
   "cell_type": "code",
   "execution_count": 10,
   "id": "42d29ed7",
   "metadata": {},
   "outputs": [
    {
     "name": "stdout",
     "output_type": "stream",
     "text": [
      "[['09', 5.711], ['13', 15.082], ['10', 13.458], ['14', 13.262], ['16', 16.954], ['23', 8.0], ['12', 9.466], ['17', 11.47], ['15', 38.603], ['21', 16.046], ['20', 21.55], ['02', 23.862], ['18', 13.22], ['03', 7.815], ['05', 10.717], ['19', 10.827], ['01', 11.933], ['22', 6.775], ['08', 10.354], ['04', 7.234], ['00', 8.309], ['06', 9.045], ['07', 7.912], ['11', 11.086]]\n"
     ]
    }
   ],
   "source": [
    "avg_by_hour = []\n",
    "\n",
    "for k in comments_by_hour:\n",
    "    avg = round(comments_by_hour[k]/counts_by_hour[k],3)\n",
    "    avg_by_hour.append([k,avg])\n",
    "\n",
    "print(avg_by_hour)"
   ]
  },
  {
   "cell_type": "markdown",
   "id": "d056e15d",
   "metadata": {},
   "source": [
    "## Sorting and Printing Values from a List of Lists : `avg_by_hour`"
   ]
  },
  {
   "cell_type": "code",
   "execution_count": 11,
   "id": "cc9beaf3",
   "metadata": {},
   "outputs": [
    {
     "name": "stdout",
     "output_type": "stream",
     "text": [
      "[[5.711, '09'], [15.082, '13'], [13.458, '10'], [13.262, '14'], [16.954, '16'], [8.0, '23'], [9.466, '12'], [11.47, '17'], [38.603, '15'], [16.046, '21'], [21.55, '20'], [23.862, '02'], [13.22, '18'], [7.815, '03'], [10.717, '05'], [10.827, '19'], [11.933, '01'], [6.775, '22'], [10.354, '08'], [7.234, '04'], [8.309, '00'], [9.045, '06'], [7.912, '07'], [11.086, '11']]\n"
     ]
    }
   ],
   "source": [
    "#creating list of list avg_by_hour with swapped colums\n",
    "swap_avg_by_hour = []\n",
    "\n",
    "for h,c in avg_by_hour:\n",
    "    swap_avg_by_hour.append([c,h])\n",
    "print(swap_avg_by_hour)"
   ]
  },
  {
   "cell_type": "code",
   "execution_count": 12,
   "id": "a933eb60",
   "metadata": {},
   "outputs": [
    {
     "name": "stdout",
     "output_type": "stream",
     "text": [
      "[[38.603, '15'], [23.862, '02'], [21.55, '20'], [16.954, '16'], [16.046, '21'], [15.082, '13'], [13.458, '10'], [13.262, '14'], [13.22, '18'], [11.933, '01'], [11.47, '17'], [11.086, '11'], [10.827, '19'], [10.717, '05'], [10.354, '08'], [9.466, '12'], [9.045, '06'], [8.309, '00'], [8.0, '23'], [7.912, '07'], [7.815, '03'], [7.234, '04'], [6.775, '22'], [5.711, '09']]\n"
     ]
    }
   ],
   "source": [
    "#sorting swapswap_avg_by_hour in desecending order\n",
    "\n",
    "sorted_swap = sorted(swap_avg_by_hour,key = lambda x :x[0],reverse = True )\n",
    "print(sorted_swap)"
   ]
  },
  {
   "cell_type": "markdown",
   "id": "273ae9a0",
   "metadata": {},
   "source": [
    "### Printing \"Top 5 Hours for Ask Posts Comments\""
   ]
  },
  {
   "cell_type": "code",
   "execution_count": 13,
   "id": "2fe5a237",
   "metadata": {},
   "outputs": [
    {
     "name": "stdout",
     "output_type": "stream",
     "text": [
      "15:00 38.60 average comments per post\n",
      "02:00 23.86 average comments per post\n",
      "20:00 21.55 average comments per post\n",
      "16:00 16.95 average comments per post\n",
      "21:00 16.05 average comments per post\n"
     ]
    }
   ],
   "source": [
    "for c,h in sorted_swap[:5]:\n",
    "    \n",
    "    h = dt.datetime.strptime(h,\"%H\")\n",
    "    \n",
    "    #h = dt.time('%)\n",
    "    #print(type(h))\n",
    "    only_h = h.time()\n",
    "    #print(type(only_h))\n",
    "    only_h = only_h.strftime(\"%H:%M\")\n",
    "    #print(type(only_h))\n",
    "    print(\"{} {:.2f} average comments per post\".format(only_h,c))"
   ]
  },
  {
   "cell_type": "markdown",
   "id": "78610280",
   "metadata": {},
   "source": [
    "## Conclusions"
   ]
  },
  {
   "cell_type": "markdown",
   "id": "13c50b61",
   "metadata": {},
   "source": [
    "### These are the Top 5 hours in which there are higher chances to get comments on your Ask Posts:\n"
   ]
  },
  {
   "cell_type": "markdown",
   "id": "2dcc171f",
   "metadata": {},
   "source": [
    "* 15:00 38.60 average comments per post\n",
    "* 02:00 23.86 average comments per post\n",
    "* 20:00 21.55 average comments per post\n",
    "* 16:00 16.95 average comments per post\n",
    "* 21:00 16.05 average comments per post"
   ]
  },
  {
   "cell_type": "markdown",
   "id": "6ccf4854",
   "metadata": {},
   "source": [
    "#### As we know time given in our [**dataset] is mentioned as Eastern Daylight Time (EDT) you can refer to [Documentation](https://www.kaggle.com/datasets/hacker-news/hacker-news-posts)"
   ]
  },
  {
   "cell_type": "markdown",
   "id": "0ed41c15",
   "metadata": {},
   "source": [
    "* As we know The Eastern Daylight Time (EDT) is 9.5 hours behind of India Standard Time (IST).\n",
    "* To comment on `Ask Hn` Post in India the best Hour would be 12.30 in The night or 00:30 in the Night"
   ]
  },
  {
   "cell_type": "markdown",
   "id": "efdef4f6",
   "metadata": {},
   "source": [
    "So, to maximize the potential number of comments it makes sence to create an ask post and do it at Midnight past 30 mins"
   ]
  },
  {
   "cell_type": "code",
   "execution_count": null,
   "id": "d212b4c0",
   "metadata": {},
   "outputs": [],
   "source": []
  }
 ],
 "metadata": {
  "kernelspec": {
   "display_name": "Python 3 (ipykernel)",
   "language": "python",
   "name": "python3"
  },
  "language_info": {
   "codemirror_mode": {
    "name": "ipython",
    "version": 3
   },
   "file_extension": ".py",
   "mimetype": "text/x-python",
   "name": "python",
   "nbconvert_exporter": "python",
   "pygments_lexer": "ipython3",
   "version": "3.9.13"
  }
 },
 "nbformat": 4,
 "nbformat_minor": 5
}
